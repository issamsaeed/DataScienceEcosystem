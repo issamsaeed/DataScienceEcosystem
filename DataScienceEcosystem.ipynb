{
 "cells": [
  {
   "cell_type": "markdown",
   "id": "6abc5fdf",
   "metadata": {},
   "source": [
    "# Data Science Tools and Ecosystem"
   ]
  },
  {
   "cell_type": "markdown",
   "id": "0c8128dd",
   "metadata": {},
   "source": [
    "In this notebook, Data Science Tools and Ecosystem are summarized."
   ]
  },
  {
   "cell_type": "markdown",
   "id": "34b93dc1",
   "metadata": {},
   "source": [
    "Some of the popular languages that Data Scientists use are:\n",
    "1. Python\n",
    "2. R\n",
    "3. SQL"
   ]
  },
  {
   "cell_type": "markdown",
   "id": "caf8c991",
   "metadata": {},
   "source": [
    "Here are some commonly used libraries by data scientists:\n",
    "\n",
    "1. NumPy: A powerful numerical computing library for Python that provides support for handling large, multi-dimensional arrays and matrices, along with a collection of mathematical functions to operate on these arrays efficiently.\n",
    "\n",
    "2. pandas: A popular data manipulation library for Python that provides data structures such as DataFrame and Series for handling and analyzing data in a flexible and efficient manner. It is widely used for data cleaning, data exploration, and data analysis tasks.\n",
    "\n",
    "3. Matplotlib: A popular plotting library for Python that provides a wide range of tools for creating static, animated, and interactive visualizations. It is commonly used for data visualization and data exploration tasks."
   ]
  },
  {
   "cell_type": "markdown",
   "id": "de3d9850",
   "metadata": {},
   "source": [
    "|Data Science tools|\n",
    "|------------------|\n",
    "|Jupyter Notebook|\n",
    "|RStudio|\n",
    "|Apache Spark|"
   ]
  },
  {
   "cell_type": "markdown",
   "id": "82afeb56",
   "metadata": {},
   "source": [
    "### Below are a few examples of evaluating arithmetic expressions in Python:"
   ]
  },
  {
   "cell_type": "code",
   "execution_count": 5,
   "id": "79ac68c4",
   "metadata": {},
   "outputs": [
    {
     "data": {
      "text/plain": [
       "17"
      ]
     },
     "execution_count": 5,
     "metadata": {},
     "output_type": "execute_result"
    }
   ],
   "source": [
    "#This a simple arithmetic expression to mutiply then add integers.\n",
    "(3*4)+5"
   ]
  },
  {
   "cell_type": "code",
   "execution_count": 7,
   "id": "b6039483",
   "metadata": {},
   "outputs": [
    {
     "name": "stdout",
     "output_type": "stream",
     "text": [
      "3.3333333333333335\n"
     ]
    }
   ],
   "source": [
    "#This will convert 200 minutes to hours by diving by 60\n",
    "minutes = 200\n",
    "hours = minutes/60\n",
    "print(hours)"
   ]
  },
  {
   "cell_type": "markdown",
   "id": "f834882d",
   "metadata": {},
   "source": [
    "**Objectives:**\n",
    "- List popular languages for Data Science\n",
    "- Commonly used libraries by data scientists\n",
    "- Data Science tools\n",
    "- Arithmetic expressions in Python:"
   ]
  },
  {
   "cell_type": "markdown",
   "id": "10dc80dd",
   "metadata": {},
   "source": [
    "# Author \n",
    "Issam Saeed"
   ]
  }
 ],
 "metadata": {
  "kernelspec": {
   "display_name": "Python 3 (ipykernel)",
   "language": "python",
   "name": "python3"
  },
  "language_info": {
   "codemirror_mode": {
    "name": "ipython",
    "version": 3
   },
   "file_extension": ".py",
   "mimetype": "text/x-python",
   "name": "python",
   "nbconvert_exporter": "python",
   "pygments_lexer": "ipython3",
   "version": "3.10.9"
  }
 },
 "nbformat": 4,
 "nbformat_minor": 5
}
